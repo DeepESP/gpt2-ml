{
  "nbformat": 4,
  "nbformat_minor": 0,
  "metadata": {
    "colab": {
      "name": "GPT2 Spanish",
      "provenance": [],
      "collapsed_sections": [],
      "toc_visible": true
    },
    "kernelspec": {
      "name": "python3",
      "display_name": "Python 3"
    },
    "accelerator": "GPU"
  },
  "cells": [
    {
      "cell_type": "markdown",
      "metadata": {
        "id": "wcI8djMTdBjA",
        "colab_type": "text"
      },
      "source": [
        "[![GitHub stars](https://img.shields.io/github/stars/DeepESP/gpt2-ml?style=social)](https://github.com/DeepESP/gpt2-ml)\n",
        "[![GitHub](https://img.shields.io/github/license/DeepESP/gpt2-ml)](https://github.com/DeepESP/gpt2-ml)\n",
        "[![Twitter URL](https://img.shields.io/twitter/url?style=social&url=https%3A%2F%2Fgithub.com%2Fimcaspar%2Fgpt2-ml)](https://twitter.com/intent/tweet?text=Wow:&url=https://github.com/DeepESP/gpt2-ml)\n",
        "### Instructions for running:\n",
        "\n",
        "* Press the ▶️button on the left of each of the cells\n",
        "* View the code: Double click any of the cells\n",
        "* Hide the code: Double click the right side of the cell"
      ]
    },
    {
      "cell_type": "code",
      "metadata": {
        "id": "kjLxcHSCdBjC",
        "colab_type": "code",
        "colab": {},
        "cellView": "form"
      },
      "source": [
        "#@title #Prerequisites\n",
        "#%tensorflow_version 1.x\n",
        "!pip install -I tensorflow-gpu==1.15.2 &> tmp.log\n",
        "!pip install tokenizers &> tmp.log\n",
        "!git clone -q https://github.com/DeepESP/gpt2-ml\n",
        "%cd /content/gpt2-ml\n",
        "\n",
        "# Download model weights\n",
        "!mkdir -p /content/gpt2-ml/models/mega\n",
        "!perl 3rd/gdown.pl/gdown.pl https://drive.google.com/open?id=1U9lhIJGwaQQ6VBh7-cznwhyjkdClQ9TU spanish-weights.zip\n",
        "!unzip spanish-weights.zip -d models/mega\n",
        "!echo 'Download finished.'\n",
        "\n",
        "#!perl 3rd/gdown.pl/gdown.pl https://drive.google.com/open?id=1mT_qCQg4AWnAXTwKfsyyRWCRpgPrBJS3 models/mega/model.ckpt-220000.data-00000-of-00001\n",
        "#!wget -q --show-progress https://github.com/imcaspar/gpt2-ml/releases/download/v1.0/model.ckpt-220000.index -P models/mega\n",
        "#!wget -q --show-progress https://github.com/imcaspar/gpt2-ml/releases/download/v1.0/model.ckpt-220000.meta -P models/mega\n",
        "\n",
        "# If gdown.pl failed, please uncomment following code & exec\n",
        "# !python3 scripts/down_gdrive_file.py -file_id='1mT_qCQg4AWnAXTwKfsyyRWCRpgPrBJS3' -file_path='models/mega/model.ckpt-220000.data-00000-of-00001'"
      ],
      "execution_count": null,
      "outputs": []
    },
    {
      "cell_type": "code",
      "metadata": {
        "id": "Lf1jZya7dBjK",
        "colab_type": "code",
        "colab": {
          "base_uri": "https://localhost:8080/",
          "height": 271
        },
        "cellView": "both",
        "outputId": "bafa4811-b71c-4a7e-a4ec-f96185d70d01"
      },
      "source": [
        "#@title #Inference\n",
        "%cd /content/gpt2-ml/scripts\n",
        "min_len = 150#@param {type:\"number\", min:5, max:1024, step:1}\n",
        "sample_num =   5#@param {type:\"number\", min:1, max:50, step:1}\n",
        "!export PYTHONPATH=/content/gpt2-ml && python demo.py -ckpt_fn ../models/mega/model.ckpt-186700 -min_len $min_len -samples $sample_num"
      ],
      "execution_count": 25,
      "outputs": [
        {
          "output_type": "stream",
          "text": [
            "/content/gpt2-ml/scripts\n",
            "Traceback (most recent call last):\n",
            "  File \"demo.py\", line 187, in <module>\n",
            "    saver.restore(sess, args.ckpt_fn)\n",
            "  File \"/usr/local/lib/python3.6/dist-packages/tensorflow_core/python/training/saver.py\", line 1280, in restore\n",
            "    if not checkpoint_management.checkpoint_exists_internal(checkpoint_prefix):\n",
            "  File \"/usr/local/lib/python3.6/dist-packages/tensorflow_core/python/training/checkpoint_management.py\", line 366, in checkpoint_exists_internal\n",
            "    if file_io.get_matching_files(pathname):\n",
            "  File \"/usr/local/lib/python3.6/dist-packages/tensorflow_core/python/lib/io/file_io.py\", line 363, in get_matching_files\n",
            "    return get_matching_files_v2(filename)\n",
            "  File \"/usr/local/lib/python3.6/dist-packages/tensorflow_core/python/lib/io/file_io.py\", line 384, in get_matching_files_v2\n",
            "    compat.as_bytes(pattern))\n",
            "tensorflow.python.framework.errors_impl.NotFoundError: models/mega; No such file or directory\n"
          ],
          "name": "stdout"
        }
      ]
    }
  ]
}